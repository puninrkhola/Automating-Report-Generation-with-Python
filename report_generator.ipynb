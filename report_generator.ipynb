{
 "cells": [
  {
   "cell_type": "code",
   "execution_count": 1,
   "id": "34cc1ec4-c4c7-450e-a1b8-4c59ebfd9812",
   "metadata": {},
   "outputs": [
    {
     "ename": "ModuleNotFoundError",
     "evalue": "No module named 'fpdf'",
     "output_type": "error",
     "traceback": [
      "\u001b[1;31m---------------------------------------------------------------------------\u001b[0m",
      "\u001b[1;31mModuleNotFoundError\u001b[0m                       Traceback (most recent call last)",
      "Cell \u001b[1;32mIn[1], line 2\u001b[0m\n\u001b[0;32m      1\u001b[0m \u001b[38;5;28;01mimport\u001b[39;00m \u001b[38;5;21;01mcsv\u001b[39;00m\n\u001b[1;32m----> 2\u001b[0m \u001b[38;5;28;01mfrom\u001b[39;00m \u001b[38;5;21;01mfpdf\u001b[39;00m \u001b[38;5;28;01mimport\u001b[39;00m FPDF\n\u001b[0;32m      4\u001b[0m \u001b[38;5;66;03m# Step 1: Read data from a CSV file\u001b[39;00m\n\u001b[0;32m      5\u001b[0m file_path \u001b[38;5;241m=\u001b[39m \u001b[38;5;124m\"\u001b[39m\u001b[38;5;124mdata.csv\u001b[39m\u001b[38;5;124m\"\u001b[39m  \u001b[38;5;66;03m# Make sure 'data.csv' exists\u001b[39;00m\n",
      "\u001b[1;31mModuleNotFoundError\u001b[0m: No module named 'fpdf'"
     ]
    }
   ],
   "source": [
    "import csv\n",
    "from fpdf import FPDF\n",
    "\n",
    "# Step 1: Read data from a CSV file\n",
    "file_path = \" airpollution_data.csv\"  # Make sure 'data.csv' exists\n",
    "\n",
    "data = []\n",
    "try:\n",
    "    with open(file_path, \"r\") as file:\n",
    "        reader = csv.reader(file)\n",
    "        headers = next(reader)  # Extract column headers\n",
    "        for row in reader:\n",
    "            data.append(row)\n",
    "except FileNotFoundError:\n",
    "    print(\"Error: CSV file not found!\")\n",
    "\n",
    "# Step 2: Analyze Data\n",
    "num_records = len(data)\n",
    "\n",
    "# Step 3: Create a PDF Report\n",
    "class PDF(FPDF):\n",
    "    def header(self):\n",
    "        self.set_font(\"Arial\", \"B\", 16)\n",
    "        self.cell(200, 10, \"Automated Report\", ln=True, align=\"C\")\n",
    "        self.ln(10)\n",
    "\n",
    "    def footer(self):\n",
    "        self.set_y(-15)\n",
    "        self.set_font(\"Arial\", \"I\", 10)\n",
    "        self.cell(0, 10, f\"Page {self.page_no()}\", align=\"C\")\n",
    "\n",
    "pdf = PDF()\n",
    "pdf.set_auto_page_break(auto=True, margin=15)\n",
    "pdf.add_page()\n",
    "\n",
    "pdf.set_font(\"Arial\", size=12)\n",
    "pdf.cell(200, 10, f\"Total Records: {num_records}\", ln=True)\n",
    "pdf.ln(5)\n",
    "\n",
    "# Step 4: Add Table Headers\n",
    "pdf.set_font(\"Arial\", \"B\", 12)\n",
    "for header in headers:\n",
    "    pdf.cell(40, 10, header, border=1)\n",
    "pdf.ln()\n",
    "\n",
    "# Step 5: Add Data to PDF\n",
    "pdf.set_font(\"Arial\", size=10)\n",
    "for row in data[:10]:  # Limiting to first 10 rows\n",
    "    for cell in row:\n",
    "        pdf.cell(40, 10, cell, border=1)\n",
    "    pdf.ln()\n",
    "\n",
    "# Step 6: Save the PDF\n",
    "pdf.output(\"report.pdf\")\n",
    "print(\"✅ Report successfully generated as 'report.pdf'!\")\n"
   ]
  },
  {
   "cell_type": "code",
   "execution_count": null,
   "id": "835b5fa8-897a-481c-8cef-8ee7f0dad3e6",
   "metadata": {},
   "outputs": [],
   "source": []
  },
  {
   "cell_type": "code",
   "execution_count": 1,
   "id": "5f88e495-5c72-4964-a793-39d6c82c58fc",
   "metadata": {},
   "outputs": [
    {
     "ename": "ModuleNotFoundError",
     "evalue": "No module named 'fpdf'",
     "output_type": "error",
     "traceback": [
      "\u001b[1;31m---------------------------------------------------------------------------\u001b[0m",
      "\u001b[1;31mModuleNotFoundError\u001b[0m                       Traceback (most recent call last)",
      "Cell \u001b[1;32mIn[1], line 2\u001b[0m\n\u001b[0;32m      1\u001b[0m \u001b[38;5;28;01mimport\u001b[39;00m \u001b[38;5;21;01mcsv\u001b[39;00m\n\u001b[1;32m----> 2\u001b[0m \u001b[38;5;28;01mfrom\u001b[39;00m \u001b[38;5;21;01mfpdf\u001b[39;00m \u001b[38;5;28;01mimport\u001b[39;00m FPDF\n\u001b[0;32m      4\u001b[0m \u001b[38;5;66;03m# Step 1: Read data from a CSV file\u001b[39;00m\n\u001b[0;32m      5\u001b[0m file_path \u001b[38;5;241m=\u001b[39m \u001b[38;5;124m\"\u001b[39m\u001b[38;5;124mdata.csv\u001b[39m\u001b[38;5;124m\"\u001b[39m  \u001b[38;5;66;03m# Make sure 'data.csv' exists\u001b[39;00m\n",
      "\u001b[1;31mModuleNotFoundError\u001b[0m: No module named 'fpdf'"
     ]
    }
   ],
   "source": [
    "import csv\n",
    "from fpdf import FPDF\n",
    "\n",
    "# Step 1: Read data from a CSV file\n",
    "file_path = \" airpollution_data.csv\"  # Make sure 'data.csv' exists\n",
    "\n",
    "data = []\n",
    "try:\n",
    "    with open(file_path, \"r\") as file:\n",
    "        reader = csv.reader(file)\n",
    "        headers = next(reader)  # Extract column headers\n",
    "        for row in reader:\n",
    "            data.append(row)\n",
    "except FileNotFoundError:\n",
    "    print(\"Error: CSV file not found!\")\n",
    "\n",
    "# Step 2: Analyze Data\n",
    "num_records = len(data)\n",
    "\n",
    "# Step 3: Create a PDF Report\n",
    "class PDF(FPDF):\n",
    "    def header(self):\n",
    "        self.set_font(\"Arial\", \"B\", 16)\n",
    "        self.cell(200, 10, \"Automated Report\", ln=True, align=\"C\")\n",
    "        self.ln(10)\n",
    "\n",
    "    def footer(self):\n",
    "        self.set_y(-15)\n",
    "        self.set_font(\"Arial\", \"I\", 10)\n",
    "        self.cell(0, 10, f\"Page {self.page_no()}\", align=\"C\")\n",
    "\n",
    "pdf = PDF()\n",
    "pdf.set_auto_page_break(auto=True, margin=15)\n",
    "pdf.add_page()\n",
    "\n",
    "pdf.set_font(\"Arial\", size=12)\n",
    "pdf.cell(200, 10, f\"Total Records: {num_records}\", ln=True)\n",
    "pdf.ln(5)\n",
    "\n",
    "# Step 4: Add Table Headers\n",
    "pdf.set_font(\"Arial\", \"B\", 12)\n",
    "for header in headers:\n",
    "    pdf.cell(40, 10, header, border=1)\n",
    "pdf.ln()\n",
    "\n",
    "# Step 5: Add Data to PDF\n",
    "pdf.set_font(\"Arial\", size=10)\n",
    "for row in data[:10]:  # Limiting to first 10 rows\n",
    "    for cell in row:\n",
    "        pdf.cell(40, 10, cell, border=1)\n",
    "    pdf.ln()\n",
    "\n",
    "# Step 6: Save the PDF\n",
    "pdf.output(\"report.pdf\")\n",
    "print(\"✅ Report successfully generated as 'report.pdf'!\")\n"
   ]
  },
  {
   "cell_type": "code",
   "execution_count": 2,
   "id": "5af55ac6-60a0-4c72-9acc-ec88949dc558",
   "metadata": {},
   "outputs": [
    {
     "name": "stdout",
     "output_type": "stream",
     "text": [
      "Defaulting to user installation because normal site-packages is not writeable\n",
      "Collecting fpdf\n",
      "  Using cached fpdf-1.7.2.tar.gz (39 kB)\n",
      "  Preparing metadata (setup.py): started\n",
      "  Preparing metadata (setup.py): finished with status 'done'\n",
      "Building wheels for collected packages: fpdf\n",
      "  Building wheel for fpdf (setup.py): started\n",
      "  Building wheel for fpdf (setup.py): finished with status 'done'\n",
      "  Created wheel for fpdf: filename=fpdf-1.7.2-py2.py3-none-any.whl size=40714 sha256=95539b1153e1c23369926986bde7ea66eed943e58b05d69e2ba39eb33807c38e\n",
      "  Stored in directory: c:\\users\\khola\\appdata\\local\\pip\\cache\\wheels\\6e\\62\\11\\dc73d78e40a218ad52e7451f30166e94491be013a7850b5d75\n",
      "Successfully built fpdf\n",
      "Installing collected packages: fpdf\n",
      "Successfully installed fpdf-1.7.2\n"
     ]
    }
   ],
   "source": [
    "!pip install fpdf\n"
   ]
  },
  {
   "cell_type": "code",
   "execution_count": null,
   "id": "a801a07b-7320-46e3-8d09-2be9a61d4431",
   "metadata": {},
   "outputs": [],
   "source": []
  },
  {
   "cell_type": "code",
   "execution_count": 4,
   "id": "22fa9ae5-294c-42f0-b4c4-4d404b858c59",
   "metadata": {},
   "outputs": [
    {
     "ename": "ModuleNotFoundError",
     "evalue": "No module named 'fpdf'",
     "output_type": "error",
     "traceback": [
      "\u001b[1;31m---------------------------------------------------------------------------\u001b[0m",
      "\u001b[1;31mModuleNotFoundError\u001b[0m                       Traceback (most recent call last)",
      "Cell \u001b[1;32mIn[4], line 2\u001b[0m\n\u001b[0;32m      1\u001b[0m \u001b[38;5;28;01mimport\u001b[39;00m \u001b[38;5;21;01mcsv\u001b[39;00m\n\u001b[1;32m----> 2\u001b[0m \u001b[38;5;28;01mfrom\u001b[39;00m \u001b[38;5;21;01mfpdf\u001b[39;00m \u001b[38;5;28;01mimport\u001b[39;00m FPDF\n\u001b[0;32m      4\u001b[0m \u001b[38;5;66;03m# Step 1: Read data from a CSV file\u001b[39;00m\n\u001b[0;32m      5\u001b[0m file_path \u001b[38;5;241m=\u001b[39m \u001b[38;5;124m\"\u001b[39m\u001b[38;5;124m airpollution_data.csv\u001b[39m\u001b[38;5;124m\"\u001b[39m  \u001b[38;5;66;03m# Make sure 'data.csv' exists\u001b[39;00m\n",
      "\u001b[1;31mModuleNotFoundError\u001b[0m: No module named 'fpdf'"
     ]
    }
   ],
   "source": [
    "import csv\n",
    "from fpdf import FPDF\n",
    "\n",
    "# Step 1: Read data from a CSV file\n",
    "file_path = \" airpollution_data.csv\"  # Make sure 'data.csv' exists\n",
    "\n",
    "data = []\n",
    "try:\n",
    "    with open(file_path, \"r\") as file:\n",
    "        reader = csv.reader(file)\n",
    "        headers = next(reader)  # Extract column headers\n",
    "        for row in reader:\n",
    "            data.append(row)\n",
    "except FileNotFoundError:\n",
    "    print(\"Error: CSV file not found!\")\n",
    "\n",
    "# Step 2: Analyze Data\n",
    "num_records = len(data)\n",
    "\n",
    "# Step 3: Create a PDF Report\n",
    "class PDF(FPDF):\n",
    "    def header(self):\n",
    "        self.set_font(\"Arial\", \"B\", 16)\n",
    "        self.cell(200, 10, \"Automated Report\", ln=True, align=\"C\")\n",
    "        self.ln(10)\n",
    "\n",
    "    def footer(self):\n",
    "        self.set_y(-15)\n",
    "        self.set_font(\"Arial\", \"I\", 10)\n",
    "        self.cell(0, 10, f\"Page {self.page_no()}\", align=\"C\")\n",
    "\n",
    "pdf = PDF()\n",
    "pdf.set_auto_page_break(auto=True, margin=15)\n",
    "pdf.add_page()\n",
    "\n",
    "pdf.set_font(\"Arial\", size=12)\n",
    "pdf.cell(200, 10, f\"Total Records: {num_records}\", ln=True)\n",
    "pdf.ln(5)\n",
    "\n",
    "# Step 4: Add Table Headers\n",
    "pdf.set_font(\"Arial\", \"B\", 12)\n",
    "for header in headers:\n",
    "    pdf.cell(40, 10, header, border=1)\n",
    "pdf.ln()\n",
    "\n",
    "# Step 5: Add Data to PDF\n",
    "pdf.set_font(\"Arial\", size=10)\n",
    "for row in data[:10]:  # Limiting to first 10 rows\n",
    "    for cell in row:\n",
    "        pdf.cell(40, 10, cell, border=1)\n",
    "    pdf.ln()\n",
    "\n",
    "# Step 6: Save the PDF\n",
    "pdf.output(\"report.pdf\")\n",
    "print(\"✅ Report successfully generated as 'report.pdf'!\")\n"
   ]
  },
  {
   "cell_type": "code",
   "execution_count": null,
   "id": "feae8211-5ef8-482e-a8f7-1f4cc24a192b",
   "metadata": {},
   "outputs": [],
   "source": []
  },
  {
   "cell_type": "code",
   "execution_count": 5,
   "id": "ac47567d-d31b-401b-b0de-51f390ef2cb3",
   "metadata": {},
   "outputs": [
    {
     "ename": "ModuleNotFoundError",
     "evalue": "No module named 'fpdf'",
     "output_type": "error",
     "traceback": [
      "\u001b[1;31m---------------------------------------------------------------------------\u001b[0m",
      "\u001b[1;31mModuleNotFoundError\u001b[0m                       Traceback (most recent call last)",
      "Cell \u001b[1;32mIn[5], line 2\u001b[0m\n\u001b[0;32m      1\u001b[0m \u001b[38;5;28;01mimport\u001b[39;00m \u001b[38;5;21;01mcsv\u001b[39;00m\n\u001b[1;32m----> 2\u001b[0m \u001b[38;5;28;01mfrom\u001b[39;00m \u001b[38;5;21;01mfpdf\u001b[39;00m \u001b[38;5;28;01mimport\u001b[39;00m FPDF\n\u001b[0;32m      4\u001b[0m \u001b[38;5;66;03m# Step 1: Read data from a CSV file\u001b[39;00m\n\u001b[0;32m      5\u001b[0m file_path \u001b[38;5;241m=\u001b[39m \u001b[38;5;124m\"\u001b[39m\u001b[38;5;124mairpollution_data.csv\u001b[39m\u001b[38;5;124m\"\u001b[39m  \u001b[38;5;66;03m# Ensure correct path\u001b[39;00m\n",
      "\u001b[1;31mModuleNotFoundError\u001b[0m: No module named 'fpdf'"
     ]
    }
   ],
   "source": [
    "import csv\n",
    "from fpdf import FPDF\n",
    "\n",
    "# Step 1: Read data from a CSV file\n",
    "file_path = \"airpollution_data.csv\"  # Ensure correct path\n",
    "\n",
    "data = []\n",
    "try:\n",
    "    with open(file_path, \"r\", encoding=\"utf-8\") as file:  # Added encoding to prevent reading issues\n",
    "        reader = csv.reader(file)\n",
    "        headers = next(reader)  # Extract column headers\n",
    "        for row in reader:\n",
    "            data.append(row)\n",
    "except FileNotFoundError:\n",
    "    print(\"Error: CSV file not found!\")\n",
    "    exit()  # Exit the script if the file is missing\n",
    "\n",
    "# Step 2: Analyze Data\n",
    "num_records = len(data)\n",
    "\n",
    "# Step 3: Create a PDF Report\n",
    "class PDF(FPDF):\n",
    "    def header(self):\n",
    "        self.set_font(\"Arial\", \"B\", 16)\n",
    "        self.cell(200, 10, \"Automated Report\", ln=True, align=\"C\")\n",
    "        self.ln(10)  # Fixed indentation\n",
    "    \n",
    "    def footer(self):  # Fixed incorrect indentation\n",
    "        self.set_y(-15)\n",
    "        self.set_font(\"Arial\", \"I\", 10)\n",
    "        self.cell(0, 10, f\"Page {self.page_no()}\", align=\"C\")\n",
    "\n",
    "pdf = PDF()\n",
    "pdf.set_auto_page_break(auto=True, margin=15)\n",
    "pdf.add_page()\n",
    "\n",
    "pdf.set_font(\"Arial\", size=12)\n",
    "pdf.cell(200, 10, f\"Total Records: {num_records}\", ln=True)\n",
    "pdf.ln(5)\n",
    "\n",
    "# Step 4: Add Table Headers\n",
    "pdf.set_font(\"Arial\", \"B\", 12)\n",
    "for header in headers:\n",
    "    pdf.cell(40, 10, header, border=1)\n",
    "pdf.ln()\n",
    "\n",
    "# Step 5: Add Data to PDF\n",
    "pdf.set_font(\"Arial\", size=10)\n",
    "for row in data[:10]:  # Limiting to first 10 rows\n",
    "    for cell in row:\n",
    "        pdf.cell(40, 10, cell, border=1)\n",
    "    pdf.ln()\n",
    "\n",
    "# Step 6: Save the PDF\n",
    "pdf.output(\"report.pdf\")\n",
    "print(\"✅ Report successfully generated as 'report.pdf'!\")\n"
   ]
  },
  {
   "cell_type": "code",
   "execution_count": 6,
   "id": "b000cd4c-d17e-4364-89c2-623b3bcae549",
   "metadata": {},
   "outputs": [
    {
     "name": "stdout",
     "output_type": "stream",
     "text": [
      "Defaulting to user installation because normal site-packages is not writeable\n",
      "Requirement already satisfied: fpdf in c:\\users\\khola\\appdata\\roaming\\python\\python312\\site-packages (1.7.2)\n"
     ]
    }
   ],
   "source": [
    "!pip install fpdf\n"
   ]
  },
  {
   "cell_type": "code",
   "execution_count": 7,
   "id": "1b6c04c9-e783-47a8-b04c-dae4999ff0b9",
   "metadata": {},
   "outputs": [
    {
     "ename": "ModuleNotFoundError",
     "evalue": "No module named 'fpdf'",
     "output_type": "error",
     "traceback": [
      "\u001b[1;31m---------------------------------------------------------------------------\u001b[0m",
      "\u001b[1;31mModuleNotFoundError\u001b[0m                       Traceback (most recent call last)",
      "Cell \u001b[1;32mIn[7], line 1\u001b[0m\n\u001b[1;32m----> 1\u001b[0m \u001b[38;5;28;01mimport\u001b[39;00m \u001b[38;5;21;01mfpdf\u001b[39;00m\n\u001b[0;32m      2\u001b[0m \u001b[38;5;28mprint\u001b[39m(fpdf\u001b[38;5;241m.\u001b[39m__version__)\n",
      "\u001b[1;31mModuleNotFoundError\u001b[0m: No module named 'fpdf'"
     ]
    }
   ],
   "source": [
    "import fpdf\n",
    "print(fpdf.__version__)  # This should print the installed version\n"
   ]
  },
  {
   "cell_type": "code",
   "execution_count": 8,
   "id": "b1a6b56b-b63a-47ed-add6-37ad71a9874e",
   "metadata": {},
   "outputs": [
    {
     "name": "stdout",
     "output_type": "stream",
     "text": [
      "Defaulting to user installation because normal site-packages is not writeable\n",
      "Requirement already satisfied: fpdf in c:\\users\\khola\\appdata\\roaming\\python\\python312\\site-packages (1.7.2)\n"
     ]
    }
   ],
   "source": [
    "!pip install fpdf"
   ]
  },
  {
   "cell_type": "code",
   "execution_count": 1,
   "id": "797e55c7-fa18-4abc-b768-36f2eac71891",
   "metadata": {},
   "outputs": [
    {
     "ename": "SyntaxError",
     "evalue": "(unicode error) 'unicodeescape' codec can't decode bytes in position 2-3: truncated \\UXXXXXXXX escape (4012756978.py, line 9)",
     "output_type": "error",
     "traceback": [
      "\u001b[1;36m  Cell \u001b[1;32mIn[1], line 9\u001b[1;36m\u001b[0m\n\u001b[1;33m    with open(file_path, \"C:\\Users\\khola\\OneDrive\\Desktop\\codetech\", encoding=\"utf-8\") as file:  # Added encoding to prevent reading issues\u001b[0m\n\u001b[1;37m                         ^\u001b[0m\n\u001b[1;31mSyntaxError\u001b[0m\u001b[1;31m:\u001b[0m (unicode error) 'unicodeescape' codec can't decode bytes in position 2-3: truncated \\UXXXXXXXX escape\n"
     ]
    }
   ],
   "source": [
    "import csv\n",
    "from fpdf import FPDF\n",
    "\n",
    "# Step 1: Read data from a CSV file\n",
    "file_path = \"airpollution_data.csv\"  # Ensure correct path\n",
    "\n",
    "data = []\n",
    "try:\n",
    "    with open(file_path, \"C:\\Users\\khola\\OneDrive\\Desktop\\codetech\", encoding=\"utf-8\") as file:  # Added encoding to prevent reading issues\n",
    "        reader = csv.reader(file)\n",
    "        headers = next(reader)  # Extract column headers\n",
    "        for row in reader:\n",
    "            data.append(row)\n",
    "except FileNotFoundError:\n",
    "    print(\"Error: CSV file not found!\")\n",
    "    exit()  # Exit the script if the file is missing\n",
    "\n",
    "# Step 2: Analyze Data\n",
    "num_records = len(data)\n",
    "\n",
    "# Step 3: Create a PDF Report\n",
    "class PDF(FPDF):\n",
    "    def header(self):\n",
    "        self.set_font(\"Arial\", \"B\", 16)\n",
    "        self.cell(200, 10, \"Automated Report\", ln=True, align=\"C\")\n",
    "        self.ln(10)  # Fixed indentation\n",
    "    \n",
    "    def footer(self):  # Fixed incorrect indentation\n",
    "        self.set_y(-15)\n",
    "        self.set_font(\"Arial\", \"I\", 10)\n",
    "        self.cell(0, 10, f\"Page {self.page_no()}\", align=\"C\")\n",
    "\n",
    "pdf = PDF()\n",
    "pdf.set_auto_page_break(auto=True, margin=15)\n",
    "pdf.add_page()\n",
    "\n",
    "pdf.set_font(\"Arial\", size=12)\n",
    "pdf.cell(200, 10, f\"Total Records: {num_records}\", ln=True)\n",
    "pdf.ln(5)\n",
    "\n",
    "# Step 4: Add Table Headers\n",
    "pdf.set_font(\"Arial\", \"B\", 12)\n",
    "for header in headers:\n",
    "    pdf.cell(40, 10, header, border=1)\n",
    "pdf.ln()\n",
    "\n",
    "# Step 5: Add Data to PDF\n",
    "pdf.set_font(\"Arial\", size=10)\n",
    "for row in data[:10]:  # Limiting to first 10 rows\n",
    "    for cell in row:\n",
    "        pdf.cell(40, 10, cell, border=1)\n",
    "    pdf.ln()\n",
    "\n",
    "# Step 6: Save the PDF\n",
    "pdf.output(\"report.pdf\")\n",
    "print(\"✅ Report successfully generated as 'report.pdf'!\")\n"
   ]
  },
  {
   "cell_type": "code",
   "execution_count": 2,
   "id": "75c5f9c7-081d-43fc-abf8-e6aad5760661",
   "metadata": {},
   "outputs": [
    {
     "name": "stdout",
     "output_type": "stream",
     "text": [
      "Error: CSV file not found!\n"
     ]
    },
    {
     "ename": "NameError",
     "evalue": "name 'headers' is not defined",
     "output_type": "error",
     "traceback": [
      "\u001b[1;31m---------------------------------------------------------------------------\u001b[0m",
      "\u001b[1;31mNameError\u001b[0m                                 Traceback (most recent call last)",
      "Cell \u001b[1;32mIn[2], line 43\u001b[0m\n\u001b[0;32m     41\u001b[0m \u001b[38;5;66;03m# Step 4: Add Table Headers\u001b[39;00m\n\u001b[0;32m     42\u001b[0m pdf\u001b[38;5;241m.\u001b[39mset_font(\u001b[38;5;124m\"\u001b[39m\u001b[38;5;124mArial\u001b[39m\u001b[38;5;124m\"\u001b[39m, \u001b[38;5;124m\"\u001b[39m\u001b[38;5;124mB\u001b[39m\u001b[38;5;124m\"\u001b[39m, \u001b[38;5;241m12\u001b[39m)\n\u001b[1;32m---> 43\u001b[0m \u001b[38;5;28;01mfor\u001b[39;00m header \u001b[38;5;129;01min\u001b[39;00m headers:\n\u001b[0;32m     44\u001b[0m     pdf\u001b[38;5;241m.\u001b[39mcell(\u001b[38;5;241m40\u001b[39m, \u001b[38;5;241m10\u001b[39m, header, border\u001b[38;5;241m=\u001b[39m\u001b[38;5;241m1\u001b[39m)\n\u001b[0;32m     45\u001b[0m pdf\u001b[38;5;241m.\u001b[39mln()\n",
      "\u001b[1;31mNameError\u001b[0m: name 'headers' is not defined"
     ]
    }
   ],
   "source": [
    "import csv\n",
    "from fpdf import FPDF\n",
    "\n",
    "# Step 1: Read data from a CSV file\n",
    "file_path = r\"C:\\Users\\khola\\OneDrive\\Desktop\\codetech\\airpollution_data.csv\"  # Corrected file path\n",
    "\n",
    "data = []\n",
    "try:\n",
    "    with open(file_path, \"r\", encoding=\"utf-8\") as file:  # Added encoding to prevent reading issues\n",
    "        reader = csv.reader(file)\n",
    "        headers = next(reader)  # Extract column headers\n",
    "        for row in reader:\n",
    "            data.append(row)\n",
    "except FileNotFoundError:\n",
    "    print(\"Error: CSV file not found!\")\n",
    "    exit()  # Exit the script if the file is missing\n",
    "\n",
    "# Step 2: Analyze Data\n",
    "num_records = len(data)\n",
    "\n",
    "# Step 3: Create a PDF Report\n",
    "class PDF(FPDF):\n",
    "    def header(self):\n",
    "        self.set_font(\"Arial\", \"B\", 16)\n",
    "        self.cell(200, 10, \"Automated Report\", ln=True, align=\"C\")\n",
    "        self.ln(10)  # Fixed indentation\n",
    "    \n",
    "    def footer(self):  # Fixed incorrect indentation\n",
    "        self.set_y(-15)\n",
    "        self.set_font(\"Arial\", \"I\", 10)\n",
    "        self.cell(0, 10, f\"Page {self.page_no()}\", align=\"C\")\n",
    "\n",
    "pdf = PDF()\n",
    "pdf.set_auto_page_break(auto=True, margin=15)\n",
    "pdf.add_page()\n",
    "\n",
    "pdf.set_font(\"Arial\", size=12)\n",
    "pdf.cell(200, 10, f\"Total Records: {num_records}\", ln=True)\n",
    "pdf.ln(5)\n",
    "\n",
    "# Step 4: Add Table Headers\n",
    "pdf.set_font(\"Arial\", \"B\", 12)\n",
    "for header in headers:\n",
    "    pdf.cell(40, 10, header, border=1)\n",
    "pdf.ln()\n",
    "\n",
    "# Step 5: Add Data to PDF\n",
    "pdf.set_font(\"Arial\", size=10)\n",
    "for row in data[:10]:  # Limiting to first 10 rows\n",
    "    for cell in row:\n",
    "        pdf.cell(40, 10, cell, border=1)\n",
    "    pdf.ln()\n",
    "\n",
    "# Step 6: Save the PDF\n",
    "pdf.output(\"report.pdf\")\n",
    "print(\"✅ Report successfully generated as 'report.pdf'!\")\n"
   ]
  },
  {
   "cell_type": "code",
   "execution_count": 2,
   "id": "0f699c1f-cfe1-4ddd-9e0a-1508671bc42a",
   "metadata": {},
   "outputs": [
    {
     "name": "stdout",
     "output_type": "stream",
     "text": [
      "Error: CSV file not found!\n",
      "✅ Report successfully generated as 'report.pdf'!\n"
     ]
    }
   ],
   "source": [
    "import csv\n",
    "from fpdf import FPDF\n",
    "\n",
    "# Step 1: Read data from a CSV file\n",
    "file_path = r\"python/ad_viz_plotval_data.csv\"  # Corrected file path\n",
    "\n",
    "data = []\n",
    "headers = []  # Initialize headers to prevent NameError\n",
    "\n",
    "try:\n",
    "    with open(file_path, \"r\", encoding=\"utf-8\") as file:  # Added encoding to prevent reading issues\n",
    "        reader = csv.reader(file)\n",
    "        first_row = next(reader, None)  # Extract column headers (returns None if file is empty)\n",
    "        \n",
    "        if first_row:  \n",
    "            headers = first_row  # Assign headers if the file is not empty\n",
    "            for row in reader:\n",
    "                data.append(row)\n",
    "        else:\n",
    "            print(\"Error: CSV file is empty or has no header row.\")\n",
    "            exit()\n",
    "except FileNotFoundError:\n",
    "    print(\"Error: CSV file not found!\")\n",
    "    exit()  # Exit the script if the file is missing\n",
    "\n",
    "# Step 2: Analyze Data\n",
    "num_records = len(data)\n",
    "\n",
    "# Step 3: Create a PDF Report\n",
    "class PDF(FPDF):\n",
    "    def header(self):\n",
    "        self.set_font(\"Arial\", \"B\", 16)\n",
    "        self.cell(200, 10, \"Automated Report\", ln=True, align=\"C\")\n",
    "        self.ln(10)  \n",
    "    \n",
    "    def footer(self):\n",
    "        self.set_y(-15)\n",
    "        self.set_font(\"Arial\", \"I\", 10)\n",
    "        self.cell(0, 10, f\"Page {self.page_no()}\", align=\"C\")\n",
    "\n",
    "pdf = PDF()\n",
    "pdf.set_auto_page_break(auto=True, margin=15)\n",
    "pdf.add_page()\n",
    "\n",
    "pdf.set_font(\"Arial\", size=12)\n",
    "pdf.cell(200, 10, f\"Total Records: {num_records}\", ln=True)\n",
    "pdf.ln(5)\n",
    "\n",
    "# Step 4: Add Table Headers (Only if headers exist)\n",
    "if headers:\n",
    "    pdf.set_font(\"Arial\", \"B\", 12)\n",
    "    for header in headers:\n",
    "        pdf.cell(40, 10, header, border=1)\n",
    "    pdf.ln()\n",
    "\n",
    "# Step 5: Add Data to PDF (Only if data exists)\n",
    "pdf.set_font(\"Arial\", size=10)\n",
    "for row in data[:10]:  # Limiting to first 10 rows\n",
    "    for cell in row:\n",
    "        pdf.cell(40, 10, cell, border=1)\n",
    "    pdf.ln()\n",
    "    print(\"Headers:\", headers)\n",
    "    print(\"Total Rows:\", len(data))\n",
    "\n",
    "\n",
    "# Step 6: Save the PDF\n",
    "pdf.output(\"report.pdf\")\n",
    "print(\"✅ Report successfully generated as 'report.pdf'!\")\n"
   ]
  },
  {
   "cell_type": "code",
   "execution_count": 1,
   "id": "6686e7df-e3f6-44d8-9759-dda477a382c8",
   "metadata": {},
   "outputs": [
    {
     "data": {
      "text/html": [
       "<a href='report.pdf' target='_blank'>report.pdf</a><br>"
      ],
      "text/plain": [
       "C:\\Users\\khola\\python\\report.pdf"
      ]
     },
     "execution_count": 1,
     "metadata": {},
     "output_type": "execute_result"
    }
   ],
   "source": [
    "from IPython.display import FileLink\n",
    "\n",
    "FileLink(\"report.pdf\")\n"
   ]
  },
  {
   "cell_type": "code",
   "execution_count": 2,
   "id": "118bda69-519b-45f5-82c3-3b79b36ef9d7",
   "metadata": {},
   "outputs": [
    {
     "name": "stdout",
     "output_type": "stream",
     "text": [
      "Error: CSV file not found!\n"
     ]
    }
   ],
   "source": [
    "import pandas as pd\n",
    "\n",
    "file_path = r\"C:\\Users\\khola\\OneDrive\\Desktop\\codetech\\airpollution_data.csv\"\n",
    "\n",
    "# Try reading the first few lines\n",
    "try:\n",
    "    df = pd.read_csv(file_path)\n",
    "    print(df.head())  # Display first few rows\n",
    "except FileNotFoundError:\n",
    "    print(\"Error: CSV file not found!\")\n",
    "except Exception as e:\n",
    "    print(f\"Error: {e}\")\n"
   ]
  },
  {
   "cell_type": "code",
   "execution_count": 1,
   "id": "bd55e8fe-d3cd-4a1a-b91f-8bb7c276b566",
   "metadata": {},
   "outputs": [
    {
     "data": {
      "text/html": [
       "<a href='report.pdf' target='_blank'>report.pdf</a><br>"
      ],
      "text/plain": [
       "C:\\Users\\khola\\python\\report.pdf"
      ]
     },
     "execution_count": 1,
     "metadata": {},
     "output_type": "execute_result"
    }
   ],
   "source": [
    "from IPython.display import FileLink\n",
    "\n",
    "FileLink(\"report.pdf\")\n"
   ]
  },
  {
   "cell_type": "code",
   "execution_count": 1,
   "id": "72062dd0-0342-48e8-a2a5-d9e7090168a6",
   "metadata": {},
   "outputs": [
    {
     "name": "stdout",
     "output_type": "stream",
     "text": [
      "Headers: ['Date', 'Source', 'Site ID', 'POC', 'Daily Max 8-hour CO Concentration', 'Units', 'Daily AQI Value', 'Local Site Name', 'Daily Obs Count', 'Percent Complete', 'AQS Parameter Code', 'AQS Parameter Description', 'Method Code', 'CBSA Code', 'CBSA Name', 'State FIPS Code', 'State', 'County FIPS Code', 'County', 'Site Latitude', 'Site Longitude']\n",
      "Sample Data: [['01-01-2024', 'AQS', '360610135', '1', '0.3', 'ppm', '3', 'CCNY', '19', '79', '42101', 'Carbon monoxide', '554', '35620', 'New York-Newark-Jersey City, NY-NJ-PA', '36', 'New York', '61', 'New York', '40.81976', '-73.94825'], ['01-02-2024', 'AQS', '360610135', '1', '0.4', 'ppm', '5', 'CCNY', '24', '100', '42101', 'Carbon monoxide', '554', '35620', 'New York-Newark-Jersey City, NY-NJ-PA', '36', 'New York', '61', 'New York', '40.81976', '-73.94825'], ['01-03-2024', 'AQS', '360610135', '1', '0.5', 'ppm', '6', 'CCNY', '24', '100', '42101', 'Carbon monoxide', '554', '35620', 'New York-Newark-Jersey City, NY-NJ-PA', '36', 'New York', '61', 'New York', '40.81976', '-73.94825'], ['01-04-2024', 'AQS', '360610135', '1', '0.3', 'ppm', '3', 'CCNY', '21', '88', '42101', 'Carbon monoxide', '554', '35620', 'New York-Newark-Jersey City, NY-NJ-PA', '36', 'New York', '61', 'New York', '40.81976', '-73.94825'], ['01-05-2024', 'AQS', '360610135', '1', '0.3', 'ppm', '3', 'CCNY', '21', '88', '42101', 'Carbon monoxide', '554', '35620', 'New York-Newark-Jersey City, NY-NJ-PA', '36', 'New York', '61', 'New York', '40.81976', '-73.94825']]\n"
     ]
    }
   ],
   "source": [
    "import csv\n",
    "\n",
    "file_path = r\"C:\\Users\\khola\\OneDrive\\Desktop\\codetech\\ad_viz_plotval_data.csv\"\n",
    "\n",
    "# Try reading the file\n",
    "data = []\n",
    "try:\n",
    "    with open(file_path, \"r\", encoding=\"utf-8\") as file:\n",
    "        reader = csv.reader(file)\n",
    "        headers = next(reader, None)  # Extract column headers safely\n",
    "        for row in reader:\n",
    "            data.append(row)\n",
    "\n",
    "    print(\"Headers:\", headers)  # Check if headers exist\n",
    "    print(\"Sample Data:\", data[:5])  # Print first 5 rows to confirm data\n",
    "except FileNotFoundError:\n",
    "    print(\"Error: CSV file not found!\")\n",
    "    exit()\n",
    "except Exception as e:\n",
    "    print(f\"Error reading CSV: {e}\")\n",
    "    exit()\n"
   ]
  },
  {
   "cell_type": "code",
   "execution_count": 2,
   "id": "99aa5752-c2b8-4603-af0e-08e7edaad4b4",
   "metadata": {},
   "outputs": [
    {
     "name": "stdout",
     "output_type": "stream",
     "text": [
      "✅ Report successfully generated as 'airpollution_report.pdf'!\n"
     ]
    }
   ],
   "source": [
    "import csv\n",
    "from fpdf import FPDF\n",
    "\n",
    "# Step 1: Read data from the CSV file\n",
    "file_path = r\"C:\\Users\\khola\\OneDrive\\Desktop\\codetech\\ad_viz_plotval_data.csv\"\n",
    "\n",
    "data = []\n",
    "try:\n",
    "    with open(file_path, \"r\", encoding=\"utf-8\") as file:\n",
    "        reader = csv.reader(file)\n",
    "        headers = next(reader)  # Extract column headers\n",
    "        for row in reader:\n",
    "            data.append(row)\n",
    "except FileNotFoundError:\n",
    "    print(\"Error: CSV file not found!\")\n",
    "    exit()  # Exit if file is missing\n",
    "\n",
    "# Step 2: Analyze Data\n",
    "num_records = len(data)\n",
    "\n",
    "# Step 3: Create a PDF Report\n",
    "class PDF(FPDF):\n",
    "    def header(self):\n",
    "        self.set_font(\"Arial\", \"B\", 16)\n",
    "        self.cell(200, 10, \"Air Pollution Report\", ln=True, align=\"C\")\n",
    "        self.ln(10)\n",
    "\n",
    "    def footer(self):\n",
    "        self.set_y(-15)\n",
    "        self.set_font(\"Arial\", \"I\", 10)\n",
    "        self.cell(0, 10, f\"Page {self.page_no()}\", align=\"C\")\n",
    "\n",
    "pdf = PDF()\n",
    "pdf.set_auto_page_break(auto=True, margin=15)\n",
    "pdf.add_page()\n",
    "\n",
    "# Add Title\n",
    "pdf.set_font(\"Arial\", \"B\", 14)\n",
    "pdf.cell(200, 10, f\"Total Records: {num_records}\", ln=True, align=\"C\")\n",
    "pdf.ln(5)\n",
    "\n",
    "# Step 4: Add Table Headers (Fixed Width)\n",
    "pdf.set_font(\"Arial\", \"B\", 9)\n",
    "column_widths = [30, 25, 25, 10, 35, 15, 20, 30]  # Adjusted widths to fit data\n",
    "selected_headers = headers[:8]  # Limit to 8 columns to fit PDF width\n",
    "\n",
    "for i, header in enumerate(selected_headers):\n",
    "    pdf.cell(column_widths[i], 10, header, border=1, align=\"C\")\n",
    "pdf.ln()\n",
    "\n",
    "# Step 5: Add Data to PDF (First 10 Rows Only)\n",
    "pdf.set_font(\"Arial\", size=8)\n",
    "for row in data[:10]:  # Limiting to first 10 rows\n",
    "    for i, cell in enumerate(row[:8]):  # Limit to first 8 columns\n",
    "        pdf.cell(column_widths[i], 10, str(cell), border=1, align=\"C\")\n",
    "    pdf.ln()\n",
    "\n",
    "# Step 6: Save the PDF\n",
    "pdf.output(\"airpollution_report.pdf\")\n",
    "print(\"✅ Report successfully generated as 'airpollution_report.pdf'!\")\n"
   ]
  },
  {
   "cell_type": "code",
   "execution_count": 3,
   "id": "45eb6296-922c-44bc-99b8-c560709b31f9",
   "metadata": {},
   "outputs": [
    {
     "data": {
      "text/html": [
       "<a href='airpollution_report.pdf' target='_blank'>airpollution_report.pdf</a><br>"
      ],
      "text/plain": [
       "C:\\Users\\khola\\python\\airpollution_report.pdf"
      ]
     },
     "execution_count": 3,
     "metadata": {},
     "output_type": "execute_result"
    }
   ],
   "source": [
    "from IPython.display import FileLink\n",
    "FileLink(\"airpollution_report.pdf\")\n"
   ]
  },
  {
   "cell_type": "code",
   "execution_count": 4,
   "id": "947f4410-9213-4963-8102-ef0181980433",
   "metadata": {},
   "outputs": [
    {
     "name": "stdout",
     "output_type": "stream",
     "text": [
      "✅ Report successfully generated as 'airpollution_report_fixed.pdf'!\n"
     ]
    }
   ],
   "source": [
    "import csv\n",
    "from fpdf import FPDF\n",
    "\n",
    "# Step 1: Read data from the CSV file\n",
    "file_path = r\"C:\\Users\\khola\\OneDrive\\Desktop\\codetech\\ad_viz_plotval_data.csv\"\n",
    "\n",
    "data = []\n",
    "try:\n",
    "    with open(file_path, \"r\", encoding=\"utf-8\") as file:\n",
    "        reader = csv.reader(file)\n",
    "        headers = next(reader)  # Extract column headers\n",
    "        for row in reader:\n",
    "            data.append(row)\n",
    "except FileNotFoundError:\n",
    "    print(\"Error: CSV file not found!\")\n",
    "    exit()\n",
    "\n",
    "# Step 2: Create PDF Report\n",
    "class PDF(FPDF):\n",
    "    def header(self):\n",
    "        self.set_font(\"Arial\", \"B\", 16)\n",
    "        self.cell(200, 10, \"Air Pollution Report\", ln=True, align=\"C\")\n",
    "        self.ln(10)\n",
    "\n",
    "    def footer(self):\n",
    "        self.set_y(-15)\n",
    "        self.set_font(\"Arial\", \"I\", 10)\n",
    "        self.cell(0, 10, f\"Page {self.page_no()}\", align=\"C\")\n",
    "\n",
    "pdf = PDF()\n",
    "pdf.set_auto_page_break(auto=True, margin=15)\n",
    "pdf.add_page()\n",
    "\n",
    "# Add Report Title\n",
    "pdf.set_font(\"Arial\", \"B\", 14)\n",
    "pdf.cell(200, 10, f\"Total Records: {len(data)}\", ln=True, align=\"C\")\n",
    "pdf.ln(5)\n",
    "\n",
    "# Step 3: Define Column Widths & Table Structure\n",
    "pdf.set_font(\"Arial\", \"B\", 9)\n",
    "column_widths = [25, 20, 25, 15, 35, 15, 20, 30, 25, 25]  # Adjusted widths for proper alignment\n",
    "selected_headers = headers[:10]  # Using first 10 columns to avoid clutter\n",
    "\n",
    "# Print Headers with Borders\n",
    "for i, header in enumerate(selected_headers):\n",
    "    pdf.cell(column_widths[i], 10, header, border=1, align=\"C\")\n",
    "pdf.ln()\n",
    "\n",
    "# Print Data (First 10 Rows)\n",
    "pdf.set_font(\"Arial\", size=8)\n",
    "for row in data[:10]:  # Display first 10 rows\n",
    "    for i, cell in enumerate(row[:10]):  # Limit to first 10 columns\n",
    "        pdf.cell(column_widths[i], 10, str(cell), border=1, align=\"C\")\n",
    "    pdf.ln()\n",
    "\n",
    "# Step 4: Save PDF\n",
    "pdf.output(\"airpollution_report_fixed.pdf\")\n",
    "print(\"✅ Report successfully generated as 'airpollution_report_fixed.pdf'!\")\n"
   ]
  },
  {
   "cell_type": "code",
   "execution_count": 5,
   "id": "2792b93f-6c68-4957-b0a6-8fe602de7b3f",
   "metadata": {},
   "outputs": [
    {
     "data": {
      "text/html": [
       "<a href='airpollution_report.pdf' target='_blank'>airpollution_report.pdf</a><br>"
      ],
      "text/plain": [
       "C:\\Users\\khola\\python\\airpollution_report.pdf"
      ]
     },
     "execution_count": 5,
     "metadata": {},
     "output_type": "execute_result"
    }
   ],
   "source": [
    "from IPython.display import FileLink\n",
    "FileLink(\"airpollution_report.pdf\")\n"
   ]
  },
  {
   "cell_type": "code",
   "execution_count": 6,
   "id": "53676fa4-0dc6-4728-b6f2-4a779337b6ad",
   "metadata": {},
   "outputs": [
    {
     "data": {
      "text/html": [
       "<a href='airpollution_report_fixed.pdf' target='_blank'>airpollution_report_fixed.pdf</a><br>"
      ],
      "text/plain": [
       "C:\\Users\\khola\\python\\airpollution_report_fixed.pdf"
      ]
     },
     "execution_count": 6,
     "metadata": {},
     "output_type": "execute_result"
    }
   ],
   "source": [
    "from IPython.display import FileLink\n",
    "FileLink(\"airpollution_report_fixed.pdf\")\n"
   ]
  },
  {
   "cell_type": "code",
   "execution_count": 7,
   "id": "3b4a1f6b-5720-4ad7-b825-f0b573581cd6",
   "metadata": {},
   "outputs": [
    {
     "name": "stdout",
     "output_type": "stream",
     "text": [
      "✅ Report successfully generated as 'airpollution_report_fixed.pdf'!\n"
     ]
    }
   ],
   "source": [
    "import csv\n",
    "from fpdf import FPDF\n",
    "\n",
    "# Step 1: Read data from the CSV file\n",
    "file_path = r\"C:\\Users\\khola\\OneDrive\\Desktop\\codetech\\ad_viz_plotval_data.csv\"\n",
    "\n",
    "data = []\n",
    "try:\n",
    "    with open(file_path, \"r\", encoding=\"utf-8\") as file:\n",
    "        reader = csv.reader(file)\n",
    "        headers = next(reader)  # Extract column headers\n",
    "        for row in reader:\n",
    "            data.append(row)\n",
    "except FileNotFoundError:\n",
    "    print(\"Error: CSV file not found!\")\n",
    "    exit()\n",
    "\n",
    "# Step 2: Create PDF Report\n",
    "class PDF(FPDF):\n",
    "    def header(self):\n",
    "        self.set_font(\"Arial\", \"B\", 16)\n",
    "        self.cell(200, 10, \"Air Pollution Report\", ln=True, align=\"C\")\n",
    "        self.ln(10)\n",
    "\n",
    "    def footer(self):\n",
    "        self.set_y(-15)\n",
    "        self.set_font(\"Arial\", \"I\", 10)\n",
    "        self.cell(0, 10, f\"Page {self.page_no()}\", align=\"C\")\n",
    "\n",
    "pdf = PDF(orientation='L', unit='mm', format='A4')  # Landscape mode for wider tables\n",
    "pdf.set_auto_page_break(auto=True, margin=15)\n",
    "pdf.add_page()\n",
    "\n",
    "# Add Report Title\n",
    "pdf.set_font(\"Arial\", \"B\", 14)\n",
    "pdf.cell(0, 10, f\"Total Records: {len(data)}\", ln=True, align=\"C\")\n",
    "pdf.ln(5)\n",
    "\n",
    "# Step 3: Define Column Widths & Table Structure\n",
    "pdf.set_font(\"Arial\", \"B\", 9)\n",
    "column_widths = [25, 20, 25, 15, 35, 15, 20, 30, 25, 25]  # Adjusted widths for readability\n",
    "selected_headers = headers[:10]  # Display only first 10 columns\n",
    "\n",
    "# Print Headers with Borders\n",
    "for i, header in enumerate(selected_headers):\n",
    "    pdf.cell(column_widths[i], 10, header, border=1, align=\"C\")\n",
    "pdf.ln()\n",
    "\n",
    "# Print Data (First 10 Rows)\n",
    "pdf.set_font(\"Arial\", size=8)\n",
    "for row in data[:10]:  # Display first 10 rows\n",
    "    for i, cell in enumerate(row[:10]):  # Limit to first 10 columns\n",
    "        pdf.cell(column_widths[i], 10, str(cell), border=1, align=\"C\")\n",
    "    pdf.ln()\n",
    "\n",
    "# Step 4: Save PDF\n",
    "pdf.output(\"airpollution_report_fixed.pdf\")\n",
    "print(\"✅ Report successfully generated as 'airpollution_report_fixed.pdf'!\")\n"
   ]
  },
  {
   "cell_type": "code",
   "execution_count": 8,
   "id": "51b208b5-88b3-4681-995a-7dfc6d713996",
   "metadata": {},
   "outputs": [
    {
     "data": {
      "text/html": [
       "<a href='airpollution_report_fixed.pdf' target='_blank'>airpollution_report_fixed.pdf</a><br>"
      ],
      "text/plain": [
       "C:\\Users\\khola\\python\\airpollution_report_fixed.pdf"
      ]
     },
     "execution_count": 8,
     "metadata": {},
     "output_type": "execute_result"
    }
   ],
   "source": [
    "from IPython.display import FileLink\n",
    "FileLink(\"airpollution_report_fixed.pdf\")\n"
   ]
  },
  {
   "cell_type": "code",
   "execution_count": 9,
   "id": "9887b16f-4e9f-45c8-9f68-98fe44315fca",
   "metadata": {},
   "outputs": [
    {
     "name": "stdout",
     "output_type": "stream",
     "text": [
      "✅ Report successfully generated as 'airpollution_report_fixed.pdf'!\n"
     ]
    }
   ],
   "source": [
    "import csv\n",
    "from fpdf import FPDF\n",
    "\n",
    "# Step 1: Read data from the CSV file\n",
    "file_path = r\"C:\\Users\\khola\\OneDrive\\Desktop\\codetech\\ad_viz_plotval_data.csv\"\n",
    "\n",
    "data = []\n",
    "try:\n",
    "    with open(file_path, \"r\", encoding=\"utf-8\") as file:\n",
    "        reader = csv.reader(file)\n",
    "        headers = next(reader)  # Extract column headers\n",
    "        for row in reader:\n",
    "            data.append(row)\n",
    "except FileNotFoundError:\n",
    "    print(\"Error: CSV file not found!\")\n",
    "    exit()\n",
    "\n",
    "# Step 2: Create PDF Report\n",
    "class PDF(FPDF):\n",
    "    def header(self):\n",
    "        self.set_font(\"Arial\", \"B\", 14)\n",
    "        self.cell(280, 10, \"Air Pollution Report\", ln=True, align=\"C\")\n",
    "        self.ln(5)\n",
    "\n",
    "    def footer(self):\n",
    "        self.set_y(-15)\n",
    "        self.set_font(\"Arial\", \"I\", 10)\n",
    "        self.cell(0, 10, f\"Page {self.page_no()}\", align=\"C\")\n",
    "\n",
    "pdf = PDF(orientation='L', unit='mm', format='A4')  # Landscape for wider tables\n",
    "pdf.set_auto_page_break(auto=True, margin=15)\n",
    "pdf.add_page()\n",
    "\n",
    "# Add Report Title\n",
    "pdf.set_font(\"Arial\", \"B\", 12)\n",
    "pdf.cell(0, 10, f\"Total Records: {len(data)}\", ln=True, align=\"C\")\n",
    "pdf.ln(5)\n",
    "\n",
    "# Step 3: Define Column Widths & Table Structure\n",
    "pdf.set_font(\"Arial\", \"B\", 8)  # Smaller font to fit columns properly\n",
    "column_widths = [25, 25, 25, 15, 35, 15, 25, 35, 20, 20]  # Adjusted widths\n",
    "selected_headers = headers[:10]  # Display only first 10 columns\n",
    "\n",
    "# Print Headers with Borders & Proper Spacing\n",
    "for i, header in enumerate(selected_headers):\n",
    "    pdf.cell(column_widths[i], 10, header, border=1, align=\"C\")\n",
    "pdf.ln()\n",
    "\n",
    "# Print Data (First 10 Rows) with Proper Spacing\n",
    "pdf.set_font(\"Arial\", size=7)  # Smaller font to prevent overlapping\n",
    "for row in data[:10]:  # Display first 10 rows\n",
    "    for i, cell in enumerate(row[:10]):  # Limit to first 10 columns\n",
    "        pdf.cell(column_widths[i], 10, str(cell), border=1, align=\"C\")\n",
    "    pdf.ln()\n",
    "\n",
    "# Step 4: Save PDF\n",
    "pdf.output(\"airpollution_report_fixed.pdf\")\n",
    "print(\"✅ Report successfully generated as 'airpollution_report_fixed.pdf'!\")\n",
    "\n",
    "\n"
   ]
  },
  {
   "cell_type": "code",
   "execution_count": 10,
   "id": "27914fdf-5ae1-465c-a23b-c8c87aa5906d",
   "metadata": {},
   "outputs": [
    {
     "data": {
      "text/html": [
       "<a href='airpollution_report_fixed.pdf' target='_blank'>airpollution_report_fixed.pdf</a><br>"
      ],
      "text/plain": [
       "C:\\Users\\khola\\python\\airpollution_report_fixed.pdf"
      ]
     },
     "execution_count": 10,
     "metadata": {},
     "output_type": "execute_result"
    }
   ],
   "source": [
    "from IPython.display import FileLink\n",
    "FileLink(\"airpollution_report_fixed.pdf\")\n"
   ]
  },
  {
   "cell_type": "code",
   "execution_count": 2,
   "id": "2117eaec-7962-461d-a5a8-fb621622ed78",
   "metadata": {},
   "outputs": [],
   "source": [
    "file_path = r\"C:\\Users\\khola\\OneDrive\\Desktop\\codetech\\ad_viz_plotval_data.csv\"\n"
   ]
  },
  {
   "cell_type": "code",
   "execution_count": 3,
   "id": "7ad389e4-a2bb-4793-bee9-64dc6620ade7",
   "metadata": {},
   "outputs": [
    {
     "name": "stdout",
     "output_type": "stream",
     "text": [
      "Updated Headers: ['Date', 'Source', 'Site ID', 'POC', 'daily max co range', 'Units', 'Daily AQI Value', 'Local Site Name', ' Obs Count', '% Complete', 'AQS Parameter Code', 'AQS Parameter Description', 'Method Code', 'CBSA Code', 'CBSA Name', 'State FIPS Code', 'State', 'County FIPS Code', 'County', 'Site Latitude', 'Site Longitude']\n",
      "Updated Sample Data: [['01-01-2024', 'AQS', '360610135', '1', '0.3', 'ppm', '3', 'CCNY', '19', '79', '42101', 'Carbon monoxide', '554', '35620', 'New York-Newark-Jersey City, NY-NJ-PA', '36', 'New York', '61', 'New York', '40.81976', '-73.94825'], ['01-02-2024', 'AQS', '360610135', '1', '0.4', 'ppm', '5', 'CCNY', '24', '100', '42101', 'Carbon monoxide', '554', '35620', 'New York-Newark-Jersey City, NY-NJ-PA', '36', 'New York', '61', 'New York', '40.81976', '-73.94825'], ['01-03-2024', 'AQS', '360610135', '1', '0.5', 'ppm', '6', 'CCNY', '24', '100', '42101', 'Carbon monoxide', '554', '35620', 'New York-Newark-Jersey City, NY-NJ-PA', '36', 'New York', '61', 'New York', '40.81976', '-73.94825'], ['01-04-2024', 'AQS', '360610135', '1', '0.3', 'ppm', '3', 'CCNY', '21', '88', '42101', 'Carbon monoxide', '554', '35620', 'New York-Newark-Jersey City, NY-NJ-PA', '36', 'New York', '61', 'New York', '40.81976', '-73.94825'], ['01-05-2024', 'AQS', '360610135', '1', '0.3', 'ppm', '3', 'CCNY', '21', '88', '42101', 'Carbon monoxide', '554', '35620', 'New York-Newark-Jersey City, NY-NJ-PA', '36', 'New York', '61', 'New York', '40.81976', '-73.94825']]\n"
     ]
    }
   ],
   "source": [
    "import csv\n",
    "\n",
    "file_path = r\"C:\\Users\\khola\\OneDrive\\Desktop\\codetech\\ad_viz_plotval_data.csv\"\n",
    "\n",
    "with open(file_path, \"r\", encoding=\"utf-8\") as file:\n",
    "    reader = csv.reader(file)\n",
    "    headers = next(reader)  # Extract column headers\n",
    "    data = list(reader)\n",
    "\n",
    "print(\"Updated Headers:\", headers)\n",
    "print(\"Updated Sample Data:\", data[:5])  # Show first 5 rows\n"
   ]
  },
  {
   "cell_type": "code",
   "execution_count": 4,
   "id": "e9e0bb43-61d6-4274-a941-7320e80638af",
   "metadata": {},
   "outputs": [
    {
     "data": {
      "text/html": [
       "<a href='airpollution_report_fixed.pdf' target='_blank'>airpollution_report_fixed.pdf</a><br>"
      ],
      "text/plain": [
       "C:\\Users\\khola\\python\\airpollution_report_fixed.pdf"
      ]
     },
     "execution_count": 4,
     "metadata": {},
     "output_type": "execute_result"
    }
   ],
   "source": [
    "\n",
    "from IPython.display import FileLink\n",
    "FileLink(\"airpollution_report_fixed.pdf\")\n"
   ]
  },
  {
   "cell_type": "code",
   "execution_count": 5,
   "id": "173bb879-5c23-4d1e-bcd7-b0954eb147c2",
   "metadata": {},
   "outputs": [
    {
     "name": "stdout",
     "output_type": "stream",
     "text": [
      "✅ Report successfully generated as 'airpollution_report_final.pdf'!\n"
     ]
    }
   ],
   "source": [
    "import csv\n",
    "from fpdf import FPDF\n",
    "\n",
    "# Step 1: Read Data from the CSV File\n",
    "file_path = r\"C:\\Users\\khola\\OneDrive\\Desktop\\codetech\\ad_viz_plotval_data.csv\"\n",
    "\n",
    "data = []\n",
    "try:\n",
    "    with open(file_path, \"r\", encoding=\"utf-8\") as file:\n",
    "        reader = csv.reader(file)\n",
    "        headers = next(reader)  # Extract column headers\n",
    "        for row in reader:\n",
    "            data.append(row)\n",
    "except FileNotFoundError:\n",
    "    print(\"Error: CSV file not found!\")\n",
    "    exit()\n",
    "\n",
    "# Step 2: Create PDF Report\n",
    "class PDF(FPDF):\n",
    "    def header(self):\n",
    "        self.set_font(\"Arial\", \"B\", 14)\n",
    "        self.cell(280, 10, \"Air Pollution Report\", ln=True, align=\"C\")\n",
    "        self.ln(5)\n",
    "\n",
    "    def footer(self):\n",
    "        self.set_y(-15)\n",
    "        self.set_font(\"Arial\", \"I\", 10)\n",
    "        self.cell(0, 10, f\"Page {self.page_no()}\", align=\"C\")\n",
    "\n",
    "pdf = PDF(orientation='L', unit='mm', format='A4')  # Landscape for wider tables\n",
    "pdf.set_auto_page_break(auto=True, margin=15)\n",
    "pdf.add_page()\n",
    "\n",
    "# Add Report Title\n",
    "pdf.set_font(\"Arial\", \"B\", 12)\n",
    "pdf.cell(0, 10, f\"Total Records: {len(data)}\", ln=True, align=\"C\")\n",
    "pdf.ln(5)\n",
    "\n",
    "# Step 3: Define Column Widths & Table Structure\n",
    "pdf.set_font(\"Arial\", \"B\", 8)  # Smaller font to fit columns properly\n",
    "\n",
    "# Auto-adjust column widths (adjust as needed)\n",
    "column_widths = [35, 25, 25, 20, 40, 20, 25, 40, 30, 30]  # Wider columns for readability\n",
    "selected_headers = headers[:10]  # Display only first 10 columns\n",
    "\n",
    "# Print Headers with Borders & Proper Spacing\n",
    "for i, header in enumerate(selected_headers):\n",
    "    pdf.cell(column_widths[i], 10, header, border=1, align=\"C\")\n",
    "pdf.ln()\n",
    "\n",
    "# Print Data (First 10 Rows) with Proper Spacing\n",
    "pdf.set_font(\"Arial\", size=7)  # Smaller font to prevent overlapping\n",
    "for row in data[:10]:  # Display first 10 rows\n",
    "    for i, cell in enumerate(row[:10]):  # Limit to first 10 columns\n",
    "        pdf.cell(column_widths[i], 10, str(cell), border=1, align=\"C\")\n",
    "    pdf.ln()\n",
    "\n",
    "# Step 4: Save PDF\n",
    "pdf.output(\"airpollution_report_final.pdf\")\n",
    "print(\"✅ Report successfully generated as 'airpollution_report_final.pdf'!\")\n"
   ]
  },
  {
   "cell_type": "code",
   "execution_count": 5,
   "id": "149919a2-751c-4d0d-88b1-30803298b303",
   "metadata": {},
   "outputs": [
    {
     "name": "stdout",
     "output_type": "stream",
     "text": [
      "✅ Report successfully generated as 'airpollution_report_final.pdf'!\n"
     ]
    }
   ],
   "source": [
    "import csv\n",
    "from fpdf import FPDF\n",
    "\n",
    "# Step 1: Read Data from the CSV File\n",
    "file_path = r\"C:\\Users\\khola\\OneDrive\\Desktop\\codetech\\ad_viz_plotval_data.csv\"\n",
    "\n",
    "data = []\n",
    "try:\n",
    "    with open(file_path, \"r\", encoding=\"utf-8\") as file:\n",
    "        reader = csv.reader(file)\n",
    "        headers = next(reader)  # Extract column headers\n",
    "        for row in reader:\n",
    "            data.append(row)\n",
    "except FileNotFoundError:\n",
    "    print(\"Error: CSV file not found!\")\n",
    "    exit()\n",
    "\n",
    "# Step 2: Create PDF Report\n",
    "class PDF(FPDF):\n",
    "    def header(self):\n",
    "        self.set_font(\"Arial\", \"B\", 14)\n",
    "        self.cell(280, 10, \"Air Pollution Report\", ln=True, align=\"C\")\n",
    "        self.ln(5)\n",
    "\n",
    "    def footer(self):\n",
    "        self.set_y(-15)\n",
    "        self.set_font(\"Arial\", \"I\", 10)\n",
    "        self.cell(0, 10, f\"Page {self.page_no()}\", align=\"C\")\n",
    "\n",
    "pdf = PDF(orientation='L', unit='mm', format='A4')  # Landscape for wider tables\n",
    "pdf.set_auto_page_break(auto=True, margin=15)\n",
    "pdf.add_page()\n",
    "\n",
    "# Add Report Title\n",
    "pdf.set_font(\"Arial\", \"B\", 12)\n",
    "pdf.cell(0, 10, f\"Total Records: {len(data)}\", ln=True, align=\"C\")\n",
    "pdf.ln(5)\n",
    "\n",
    "# Step 3: Define Column Widths & Table Structure\n",
    "pdf.set_font(\"Arial\", \"B\", 8)  # Smaller font to fit columns properly\n",
    "\n",
    "# Auto-adjust column widths (adjust as needed)\n",
    "column_widths = [35, 25, 25, 20, 40, 20, 25, 40, 30, 30]  # Wider columns for readability\n",
    "selected_headers = headers[:10]  # Display only first 10 columns\n",
    "\n",
    "# Print Headers with Borders & Proper Spacing\n",
    "for i, header in enumerate(selected_headers):\n",
    "    pdf.cell(column_widths[i], 10, header, border=1, align=\"C\")\n",
    "pdf.ln()\n",
    "\n",
    "# Print Data (First 10 Rows) with Proper Spacing\n",
    "pdf.set_font(\"Arial\", size=7)  # Smaller font to prevent overlapping\n",
    "for row in data[:10]:  # Display first 10 rows\n",
    "    for i, cell in enumerate(row[:10]):  # Limit to first 10 columns\n",
    "        pdf.cell(column_widths[i], 10, str(cell), border=1, align=\"C\")\n",
    "    pdf.ln()\n",
    "\n",
    "# Step 4: Save PDF\n",
    "pdf.output(\"airpollution_report_final.pdf\")\n",
    "print(\"✅ Report successfully generated as 'airpollution_report_final.pdf'!\")\n"
   ]
  },
  {
   "cell_type": "code",
   "execution_count": 6,
   "id": "ba6d792b-acfc-4164-b4cf-b0c0740425ff",
   "metadata": {},
   "outputs": [
    {
     "data": {
      "text/html": [
       "<a href='airpollution_report_final.pdf' target='_blank'>airpollution_report_final.pdf</a><br>"
      ],
      "text/plain": [
       "C:\\Users\\khola\\python\\airpollution_report_final.pdf"
      ]
     },
     "execution_count": 6,
     "metadata": {},
     "output_type": "execute_result"
    }
   ],
   "source": [
    "from IPython.display import FileLink\n",
    "FileLink(\"airpollution_report_final.pdf\")\n"
   ]
  },
  {
   "cell_type": "code",
   "execution_count": 1,
   "id": "57011103-32e1-4e05-b6eb-0f04b77205a0",
   "metadata": {},
   "outputs": [
    {
     "name": "stdout",
     "output_type": "stream",
     "text": [
      "✅ Report successfully generated as 'airpollution_report_final.pdf'!\n"
     ]
    }
   ],
   "source": [
    "import csv\n",
    "from fpdf import FPDF\n",
    "\n",
    "# Step 1: Read Data from the CSV File\n",
    "file_path = r\"C:\\Users\\khola\\OneDrive\\Desktop\\codetech\\ad_viz_plotval_data.csv\"\n",
    "\n",
    "data = []\n",
    "try:\n",
    "    with open(file_path, \"r\", encoding=\"utf-8\") as file:\n",
    "        reader = csv.reader(file)\n",
    "        headers = next(reader)  # Extract column headers\n",
    "        for row in reader:\n",
    "            data.append(row)\n",
    "except FileNotFoundError:\n",
    "    print(\"Error: CSV file not found!\")\n",
    "    exit()\n",
    "\n",
    "# Step 2: Create PDF Report\n",
    "class PDF(FPDF):\n",
    "    def header(self):\n",
    "        self.set_font(\"Arial\", \"B\", 14)\n",
    "        self.cell(280, 10, \"Air Pollution Report\", ln=True, align=\"C\")\n",
    "        self.ln(5)\n",
    "\n",
    "    def footer(self):\n",
    "        self.set_y(-15)\n",
    "        self.set_font(\"Arial\", \"I\", 10)\n",
    "        self.cell(0, 10, f\"Page {self.page_no()}\", align=\"C\")\n",
    "\n",
    "pdf = PDF(orientation='L', unit='mm', format='A4')  # Landscape for wider tables\n",
    "pdf.set_auto_page_break(auto=True, margin=15)\n",
    "pdf.add_page()\n",
    "\n",
    "# Add Report Title\n",
    "pdf.set_font(\"Arial\", \"B\", 12)\n",
    "pdf.cell(0, 10, f\"Total Records: {len(data)}\", ln=True, align=\"C\")\n",
    "pdf.ln(5)\n",
    "\n",
    "# Step 3: Define Column Widths & Table Structure\n",
    "pdf.set_font(\"Arial\", \"B\", 8)  # Smaller font to fit columns properly\n",
    "\n",
    "# Auto-adjust column widths (adjust as needed)\n",
    "column_widths = [35, 25, 25, 20, 40, 20, 25, 40, 30, 30]  # Wider columns for readability\n",
    "selected_headers = headers[:10]  # Display only first 10 columns\n",
    "\n",
    "# Print Headers with Borders & Proper Spacing\n",
    "for i, header in enumerate(selected_headers):\n",
    "    pdf.cell(column_widths[i], 10, header, border=1, align=\"C\")\n",
    "pdf.ln()\n",
    "\n",
    "# Print Data (First 10 Rows) with Proper Spacing\n",
    "pdf.set_font(\"Arial\", size=7)  # Smaller font to prevent overlapping\n",
    "for row in data[:10]:  # Display first 10 rows\n",
    "    for i, cell in enumerate(row[:10]):  # Limit to first 10 columns\n",
    "        pdf.cell(column_widths[i], 10, str(cell), border=1, align=\"C\")\n",
    "    pdf.ln()\n",
    "\n",
    "# Step 4: Save PDF\n",
    "pdf.output(\"airpollution_report_final.pdf\")\n",
    "print(\"✅ Report successfully generated as 'airpollution_report_final.pdf'!\")\n"
   ]
  },
  {
   "cell_type": "code",
   "execution_count": 2,
   "id": "e6c540a3-ef29-4f1f-889e-87db06077148",
   "metadata": {},
   "outputs": [
    {
     "ename": "ModuleNotFoundError",
     "evalue": "No module named 'Ipython'",
     "output_type": "error",
     "traceback": [
      "\u001b[1;31m---------------------------------------------------------------------------\u001b[0m",
      "\u001b[1;31mModuleNotFoundError\u001b[0m                       Traceback (most recent call last)",
      "Cell \u001b[1;32mIn[2], line 1\u001b[0m\n\u001b[1;32m----> 1\u001b[0m \u001b[38;5;28;01mfrom\u001b[39;00m \u001b[38;5;21;01mIpython\u001b[39;00m\u001b[38;5;21;01m.\u001b[39;00m\u001b[38;5;21;01mdisplay\u001b[39;00m \u001b[38;5;28;01mimport\u001b[39;00m Filelink\n\u001b[0;32m      2\u001b[0m Filelink(\u001b[38;5;124m\"\u001b[39m\u001b[38;5;124mair_pollution_report_final.pdf\u001b[39m\u001b[38;5;124m\"\u001b[39m)\n",
      "\u001b[1;31mModuleNotFoundError\u001b[0m: No module named 'Ipython'"
     ]
    }
   ],
   "source": [
    "from Ipython.display import Filelink\n",
    "Filelink(\"air_pollution_report_final.pdf\")"
   ]
  },
  {
   "cell_type": "code",
   "execution_count": 3,
   "id": "f8cdc1ea-07a2-4c65-b8d5-ed42d88a52be",
   "metadata": {},
   "outputs": [
    {
     "data": {
      "text/html": [
       "<a href='airpollution_report_final.pdf' target='_blank'>airpollution_report_final.pdf</a><br>"
      ],
      "text/plain": [
       "C:\\Users\\khola\\python\\airpollution_report_final.pdf"
      ]
     },
     "execution_count": 3,
     "metadata": {},
     "output_type": "execute_result"
    }
   ],
   "source": [
    "from IPython.display import FileLink\n",
    "FileLink(\"airpollution_report_final.pdf\")\n"
   ]
  },
  {
   "cell_type": "code",
   "execution_count": 4,
   "id": "7de8b287-6261-413c-a1f5-7f5d787adf02",
   "metadata": {},
   "outputs": [
    {
     "name": "stdout",
     "output_type": "stream",
     "text": [
      "✅ Report successfully generated as 'airpollution_report_final.pdf'!\n"
     ]
    }
   ],
   "source": [
    "import csv\n",
    "from fpdf import FPDF\n",
    "\n",
    "# Step 1: Read Data from the CSV File\n",
    "file_path = r\"C:\\Users\\khola\\OneDrive\\Desktop\\codetech\\ad_viz_plotval_data.csv\"\n",
    "\n",
    "data = []\n",
    "try:\n",
    "    with open(file_path, \"r\", encoding=\"utf-8\") as file:\n",
    "        reader = csv.reader(file)\n",
    "        headers = next(reader)  # Extract column headers\n",
    "        for row in reader:\n",
    "            data.append(row)\n",
    "except FileNotFoundError:\n",
    "    print(\"Error: CSV file not found!\")\n",
    "    exit()\n",
    "\n",
    "# Step 2: Create PDF Report\n",
    "class PDF(FPDF):\n",
    "    def header(self):\n",
    "        self.set_font(\"Arial\", \"B\", 14)\n",
    "        self.cell(280, 10, \"Air Pollution Report\", ln=True, align=\"C\")\n",
    "        self.ln(5)\n",
    "\n",
    "    def footer(self):\n",
    "        self.set_y(-15)\n",
    "        self.set_font(\"Arial\", \"I\", 10)\n",
    "        self.cell(0, 10, f\"Page {self.page_no()}\", align=\"C\")\n",
    "\n",
    "pdf = PDF(orientation='L', unit='mm', format='A4')  # Landscape for wider tables\n",
    "pdf.set_auto_page_break(auto=True, margin=15)\n",
    "pdf.add_page()\n",
    "\n",
    "# Add Report Title\n",
    "pdf.set_font(\"Arial\", \"B\", 12)\n",
    "pdf.cell(0, 10, f\"Total Records: {len(data)}\", ln=True, align=\"C\")\n",
    "pdf.ln(5)\n",
    "\n",
    "# Step 3: Define Column Widths & Table Structure\n",
    "pdf.set_font(\"Arial\", \"B\", 8)  # Smaller font to fit columns properly\n",
    "\n",
    "# Auto-adjust column widths (adjust as needed)\n",
    "column_widths = [35, 25, 25, 20, 40, 20, 25, 40, 30, 30]  # Wider columns for readability\n",
    "selected_headers = headers[:10]  # Display only first 10 columns\n",
    "\n",
    "# Print Headers with Borders & Proper Spacing\n",
    "for i, header in enumerate(selected_headers):\n",
    "    pdf.cell(column_widths[i], 10, header, border=1, align=\"C\")\n",
    "pdf.ln()\n",
    "\n",
    "# Print Data (First 10 Rows) with Proper Spacing\n",
    "pdf.set_font(\"Arial\", size=7)  # Smaller font to prevent overlapping\n",
    "for row in data[:10]:  # Display first 10 rows\n",
    "    for i, cell in enumerate(row[:10]):  # Limit to first 10 columns\n",
    "        pdf.cell(column_widths[i], 10, str(cell), border=1, align=\"C\")\n",
    "    pdf.ln()\n",
    "\n",
    "# Step 4: Save PDF\n",
    "pdf.output(\"airpollution_report_final.pdf\")\n",
    "print(\"✅ Report successfully generated as 'airpollution_report_final.pdf'!\")\n"
   ]
  },
  {
   "cell_type": "code",
   "execution_count": 6,
   "id": "68128564-6c36-40ef-94ce-61171da591ec",
   "metadata": {},
   "outputs": [
    {
     "data": {
      "text/html": [
       "<a href='airpollution_report_final.pdf' target='_blank'>airpollution_report_final.pdf</a><br>"
      ],
      "text/plain": [
       "C:\\Users\\khola\\python\\airpollution_report_final.pdf"
      ]
     },
     "execution_count": 6,
     "metadata": {},
     "output_type": "execute_result"
    }
   ],
   "source": [
    "from IPython.display import FileLink\n",
    "FileLink(\"airpollution_report_final.pdf\")\n"
   ]
  },
  {
   "cell_type": "code",
   "execution_count": null,
   "id": "50a58f33-d709-40e4-a4d4-0faa42546361",
   "metadata": {},
   "outputs": [],
   "source": [
    "import csv\n",
    "from fpdf import FPDF\n",
    "\n",
    "# Step 1: Read Data from the CSV File\n",
    "file_path = r\"C:\\Users\\khola\\OneDrive\\Desktop\\codetech\\ad_viz_plotval_data.csv\"\n",
    "\n",
    "data = []\n",
    "try:\n",
    "    with open(file_path, \"r\", encoding=\"utf-8\") as file:\n",
    "        reader = csv.reader(file)\n",
    "        headers = next(reader)  # Extract column headers\n",
    "        for row in reader:\n",
    "            data.append(row)\n",
    "except FileNotFoundError:\n",
    "    print(\"Error: CSV file not found!\")\n",
    "    exit()\n",
    "\n",
    "# Step 2: Create PDF Report\n",
    "class PDF(FPDF):\n",
    "    def header(self):\n",
    "        self.set_font(\"Arial\", \"B\", 14)\n",
    "        self.cell(280, 10, \"Air Pollution Report\", ln=True, align=\"C\")\n",
    "        self.ln(5)\n",
    "\n",
    "    def footer(self):\n",
    "        self.set_y(-15)\n",
    "        self.set_font(\"Arial\", \"I\", 10)\n",
    "        self.cell(0, 10, f\"Page {self.page_no()}\", align=\"C\")\n",
    "\n",
    "pdf = PDF(orientation='L', unit='mm', format='A4')  # Landscape for wider tables\n",
    "pdf.set_auto_page_break(auto=True, margin=15)\n",
    "pdf.add_page()\n",
    "\n",
    "# Add Report Title\n",
    "pdf.set_font(\"Arial\", \"B\", 12)\n",
    "pdf.cell(0, 10, f\"Total Records: {len(data)}\", ln=True, align=\"C\")\n",
    "pdf.ln(5)\n",
    "\n",
    "# Step 3: Define Column Widths & Table Structure\n",
    "pdf.set_font(\"Arial\", \"B\", 8)  # Smaller font to fit columns properly\n",
    "\n",
    "# Auto-adjust column widths (adjust as needed)\n",
    "column_widths = [35, 25, 25, 20, 40, 20, 25, 40, 30, 30]  # Wider columns for readability\n",
    "selected_headers = headers[:10]  # Display only first 10 columns\n",
    "\n",
    "# Print Headers with Borders & Proper Spacing\n",
    "for i, header in enumerate(selected_headers):\n",
    "    pdf.cell(column_widths[i], 10, header, border=1, align=\"C\")\n",
    "pdf.ln()\n",
    "\n",
    "# Print Data (First 10 Rows) with Proper Spacing\n",
    "pdf.set_font(\"Arial\", size=7)  # Smaller font to prevent overlapping\n",
    "for row in data[:10]:  # Display first 10 rows\n",
    "    for i, cell in enumerate(row[:10]):  # Limit to first 10 columns\n",
    "        pdf.cell(column_widths[i], 10, str(cell), border=1, align=\"C\")\n",
    "    pdf.ln()\n",
    "\n",
    "# Step 4: Save PDF\n",
    "pdf.output(\"airpollution_report_final.pdf\")\n",
    "print(\"✅ Report successfully generated as 'airpollution_report_final.pdf'!\")\n"
   ]
  },
  {
   "cell_type": "code",
   "execution_count": 8,
   "id": "5988191a-5bf0-45b5-8603-594c1ee54bc2",
   "metadata": {},
   "outputs": [
    {
     "data": {
      "text/html": [
       "<a href='airpollution_report_final.pdf' target='_blank'>airpollution_report_final.pdf</a><br>"
      ],
      "text/plain": [
       "C:\\Users\\khola\\python\\airpollution_report_final.pdf"
      ]
     },
     "execution_count": 8,
     "metadata": {},
     "output_type": "execute_result"
    }
   ],
   "source": [
    "from IPython.display import FileLink\n",
    "FileLink(\"airpollution_report_final.pdf\")\n"
   ]
  }
 ],
 "metadata": {
  "kernelspec": {
   "display_name": "Python 3 (ipykernel)",
   "language": "python",
   "name": "python3"
  },
  "language_info": {
   "codemirror_mode": {
    "name": "ipython",
    "version": 3
   },
   "file_extension": ".py",
   "mimetype": "text/x-python",
   "name": "python",
   "nbconvert_exporter": "python",
   "pygments_lexer": "ipython3",
   "version": "3.12.7"
  }
 },
 "nbformat": 4,
 "nbformat_minor": 5
}
